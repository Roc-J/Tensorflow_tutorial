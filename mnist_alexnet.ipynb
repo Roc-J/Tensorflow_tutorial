{
 "cells": [
  {
   "cell_type": "code",
   "execution_count": 1,
   "metadata": {},
   "outputs": [
    {
     "name": "stderr",
     "output_type": "stream",
     "text": [
      "/usr/local/lib/python3.5/dist-packages/h5py/__init__.py:36: FutureWarning: Conversion of the second argument of issubdtype from `float` to `np.floating` is deprecated. In future, it will be treated as `np.float64 == np.dtype(float).type`.\n",
      "  from ._conv import register_converters as _register_converters\n"
     ]
    },
    {
     "name": "stdout",
     "output_type": "stream",
     "text": [
      "Extracting MNIST_data/train-images-idx3-ubyte.gz\n",
      "Extracting MNIST_data/train-labels-idx1-ubyte.gz\n",
      "Extracting MNIST_data/t10k-images-idx3-ubyte.gz\n",
      "Extracting MNIST_data/t10k-labels-idx1-ubyte.gz\n"
     ]
    }
   ],
   "source": [
    "from tensorflow.examples.tutorials.mnist import input_data\n",
    "mnist = input_data.read_data_sets(\"MNIST_data/\", one_hot=True)"
   ]
  },
  {
   "cell_type": "code",
   "execution_count": 2,
   "metadata": {},
   "outputs": [],
   "source": [
    "import tensorflow as tf"
   ]
  },
  {
   "cell_type": "code",
   "execution_count": 3,
   "metadata": {},
   "outputs": [],
   "source": [
    "# parameters\n",
    "learning_rate = 0.001\n",
    "training_iters = 100000\n",
    "batch_size = 128\n",
    "display_step = 10"
   ]
  },
  {
   "cell_type": "code",
   "execution_count": 4,
   "metadata": {},
   "outputs": [],
   "source": [
    "# Network Parameters\n",
    "n_input = 784 # MNIST data input (img shape: 28*28)\n",
    "n_classes = 10 # MNIST total classes (0-9 digits)\n",
    "dropout = 0.75 # Dropout, probability to keep units"
   ]
  },
  {
   "cell_type": "code",
   "execution_count": 5,
   "metadata": {},
   "outputs": [],
   "source": [
    "# tf Graph input\n",
    "x = tf.placeholder(tf.float32, [None, n_input])\n",
    "y = tf.placeholder(tf.float32, [None, n_classes])\n",
    "keep_prob = tf.placeholder(tf.float32) #dropout (keep probability)"
   ]
  },
  {
   "cell_type": "code",
   "execution_count": 6,
   "metadata": {},
   "outputs": [],
   "source": [
    "# Create model\n",
    "def conv2d(img, w, b):\n",
    "    return tf.nn.relu(tf.nn.bias_add(tf.nn.conv2d(img, w, strides=[1, 1, 1, 1], padding='SAME'),b))\n",
    "\n",
    "def max_pool(img, k):\n",
    "    return tf.nn.max_pool(img, ksize=[1, k, k, 1], strides=[1, k, k, 1], padding='SAME')\n",
    "\n",
    "def conv_net(_X, _weights, _biases, _dropout):\n",
    "    # Reshape input picture\n",
    "    _X = tf.reshape(_X, shape=[-1, 28, 28, 1])\n",
    "\n",
    "    # Convolution Layer\n",
    "    conv1 = conv2d(_X, _weights['wc1'], _biases['bc1'])\n",
    "    # Max Pooling (down-sampling)\n",
    "    conv1 = max_pool(conv1, k=2)\n",
    "    # Apply Dropout\n",
    "    conv1 = tf.nn.dropout(conv1, _dropout)\n",
    "\n",
    "    # Convolution Layer\n",
    "    conv2 = conv2d(conv1, _weights['wc2'], _biases['bc2'])\n",
    "    # Max Pooling (down-sampling)\n",
    "    conv2 = max_pool(conv2, k=2)\n",
    "    # Apply Dropout\n",
    "    conv2 = tf.nn.dropout(conv2, _dropout)\n",
    "\n",
    "    # Fully connected layer\n",
    "    dense1 = tf.reshape(conv2, [-1, _weights['wd1'].get_shape().as_list()[0]]) # Reshape conv2 output to fit dense layer input\n",
    "    dense1 = tf.nn.relu(tf.add(tf.matmul(dense1, _weights['wd1']), _biases['bd1'])) # Relu activation\n",
    "    dense1 = tf.nn.dropout(dense1, _dropout) # Apply Dropout\n",
    "\n",
    "    # Output, class prediction\n",
    "    out = tf.add(tf.matmul(dense1, _weights['out']), _biases['out'])\n",
    "    return out"
   ]
  },
  {
   "cell_type": "code",
   "execution_count": 7,
   "metadata": {},
   "outputs": [],
   "source": [
    "# Store layers weight & bias\n",
    "weights = {\n",
    "    'wc1': tf.Variable(tf.random_normal([5, 5, 1, 32])), # 5x5 conv, 1 input, 32 outputs\n",
    "    'wc2': tf.Variable(tf.random_normal([5, 5, 32, 64])), # 5x5 conv, 32 inputs, 64 outputs\n",
    "    'wd1': tf.Variable(tf.random_normal([7*7*64, 1024])), # fully connected, 7*7*64 inputs, 1024 outputs\n",
    "    'out': tf.Variable(tf.random_normal([1024, n_classes])) # 1024 inputs, 10 outputs (class prediction)\n",
    "}\n",
    "\n",
    "biases = {\n",
    "    'bc1': tf.Variable(tf.random_normal([32])),\n",
    "    'bc2': tf.Variable(tf.random_normal([64])),\n",
    "    'bd1': tf.Variable(tf.random_normal([1024])),\n",
    "    'out': tf.Variable(tf.random_normal([n_classes]))\n",
    "}"
   ]
  },
  {
   "cell_type": "code",
   "execution_count": 8,
   "metadata": {},
   "outputs": [],
   "source": [
    "# Construct model\n",
    "pred = conv_net(x, weights, biases, keep_prob)"
   ]
  },
  {
   "cell_type": "code",
   "execution_count": 11,
   "metadata": {},
   "outputs": [],
   "source": [
    "# Define loss and optimizer\n",
    "cost = tf.reduce_mean(tf.nn.softmax_cross_entropy_with_logits(logits=pred, labels=y))\n",
    "optimizer = tf.train.AdamOptimizer(learning_rate=learning_rate).minimize(cost)"
   ]
  },
  {
   "cell_type": "code",
   "execution_count": 12,
   "metadata": {},
   "outputs": [],
   "source": [
    "# Evaluate model\n",
    "correct_pred = tf.equal(tf.argmax(pred,1), tf.argmax(y,1))\n",
    "accuracy = tf.reduce_mean(tf.cast(correct_pred, tf.float32))"
   ]
  },
  {
   "cell_type": "code",
   "execution_count": 13,
   "metadata": {},
   "outputs": [],
   "source": [
    "# Initializing the variables\n",
    "init = tf.global_variables_initializer()"
   ]
  },
  {
   "cell_type": "code",
   "execution_count": 16,
   "metadata": {},
   "outputs": [
    {
     "name": "stdout",
     "output_type": "stream",
     "text": [
      "Iter 1280, Minibatch Loss= 25564.935547, Training Accuracy= 0.21875\n",
      "Iter 2560, Minibatch Loss= 9007.122070, Training Accuracy= 0.46875\n",
      "Iter 3840, Minibatch Loss= 5483.647461, Training Accuracy= 0.65625\n",
      "Iter 5120, Minibatch Loss= 6938.303711, Training Accuracy= 0.59375\n",
      "Iter 6400, Minibatch Loss= 4589.682129, Training Accuracy= 0.68750\n",
      "Iter 7680, Minibatch Loss= 3592.400146, Training Accuracy= 0.72656\n",
      "Iter 8960, Minibatch Loss= 2322.506836, Training Accuracy= 0.79688\n",
      "Iter 10240, Minibatch Loss= 3521.515381, Training Accuracy= 0.78125\n",
      "Iter 11520, Minibatch Loss= 3058.502930, Training Accuracy= 0.73438\n",
      "Iter 12800, Minibatch Loss= 3215.927734, Training Accuracy= 0.77344\n",
      "Iter 14080, Minibatch Loss= 2548.573730, Training Accuracy= 0.78906\n",
      "Iter 15360, Minibatch Loss= 4785.660156, Training Accuracy= 0.74219\n",
      "Iter 16640, Minibatch Loss= 2006.006226, Training Accuracy= 0.85938\n",
      "Iter 17920, Minibatch Loss= 2168.076172, Training Accuracy= 0.82812\n",
      "Iter 19200, Minibatch Loss= 2039.561279, Training Accuracy= 0.84375\n",
      "Iter 20480, Minibatch Loss= 2766.685303, Training Accuracy= 0.81250\n",
      "Iter 21760, Minibatch Loss= 3077.878906, Training Accuracy= 0.84375\n",
      "Iter 23040, Minibatch Loss= 2175.968750, Training Accuracy= 0.83594\n",
      "Iter 24320, Minibatch Loss= 1931.296021, Training Accuracy= 0.82031\n",
      "Iter 25600, Minibatch Loss= 1233.527222, Training Accuracy= 0.89062\n",
      "Iter 26880, Minibatch Loss= 1639.870239, Training Accuracy= 0.84375\n",
      "Iter 28160, Minibatch Loss= 1773.064331, Training Accuracy= 0.85156\n",
      "Iter 29440, Minibatch Loss= 643.836548, Training Accuracy= 0.92188\n",
      "Iter 30720, Minibatch Loss= 1408.654541, Training Accuracy= 0.88281\n",
      "Iter 32000, Minibatch Loss= 906.947998, Training Accuracy= 0.88281\n",
      "Iter 33280, Minibatch Loss= 1495.443848, Training Accuracy= 0.89062\n",
      "Iter 34560, Minibatch Loss= 804.493530, Training Accuracy= 0.92188\n",
      "Iter 35840, Minibatch Loss= 809.122803, Training Accuracy= 0.92969\n",
      "Iter 37120, Minibatch Loss= 867.845947, Training Accuracy= 0.89844\n",
      "Iter 38400, Minibatch Loss= 1559.901245, Training Accuracy= 0.86719\n",
      "Iter 39680, Minibatch Loss= 1515.913086, Training Accuracy= 0.89844\n",
      "Iter 40960, Minibatch Loss= 1357.581177, Training Accuracy= 0.85938\n",
      "Iter 42240, Minibatch Loss= 878.511658, Training Accuracy= 0.92188\n",
      "Iter 43520, Minibatch Loss= 926.457275, Training Accuracy= 0.90625\n",
      "Iter 44800, Minibatch Loss= 866.212402, Training Accuracy= 0.87500\n",
      "Iter 46080, Minibatch Loss= 1788.508301, Training Accuracy= 0.85938\n",
      "Iter 47360, Minibatch Loss= 1116.655762, Training Accuracy= 0.90625\n",
      "Iter 48640, Minibatch Loss= 603.825012, Training Accuracy= 0.90625\n",
      "Iter 49920, Minibatch Loss= 529.594421, Training Accuracy= 0.90625\n",
      "Iter 51200, Minibatch Loss= 910.540771, Training Accuracy= 0.90625\n",
      "Iter 52480, Minibatch Loss= 944.980835, Training Accuracy= 0.92188\n",
      "Iter 53760, Minibatch Loss= 1050.584839, Training Accuracy= 0.90625\n",
      "Iter 55040, Minibatch Loss= 994.072998, Training Accuracy= 0.87500\n",
      "Iter 56320, Minibatch Loss= 814.014160, Training Accuracy= 0.90625\n",
      "Iter 57600, Minibatch Loss= 990.401367, Training Accuracy= 0.89844\n",
      "Iter 58880, Minibatch Loss= 594.018982, Training Accuracy= 0.94531\n",
      "Iter 60160, Minibatch Loss= 811.188232, Training Accuracy= 0.89062\n",
      "Iter 61440, Minibatch Loss= 431.374329, Training Accuracy= 0.92969\n",
      "Iter 62720, Minibatch Loss= 901.054504, Training Accuracy= 0.90625\n",
      "Iter 64000, Minibatch Loss= 348.094055, Training Accuracy= 0.95312\n",
      "Iter 65280, Minibatch Loss= 198.588745, Training Accuracy= 0.95312\n",
      "Iter 66560, Minibatch Loss= 966.286011, Training Accuracy= 0.86719\n",
      "Iter 67840, Minibatch Loss= 862.053467, Training Accuracy= 0.91406\n",
      "Iter 69120, Minibatch Loss= 368.577423, Training Accuracy= 0.94531\n",
      "Iter 70400, Minibatch Loss= 385.612946, Training Accuracy= 0.93750\n",
      "Iter 71680, Minibatch Loss= 907.182800, Training Accuracy= 0.89062\n",
      "Iter 72960, Minibatch Loss= 570.533936, Training Accuracy= 0.93750\n",
      "Iter 74240, Minibatch Loss= 606.786316, Training Accuracy= 0.90625\n",
      "Iter 75520, Minibatch Loss= 452.936737, Training Accuracy= 0.93750\n",
      "Iter 76800, Minibatch Loss= 724.942139, Training Accuracy= 0.92188\n",
      "Iter 78080, Minibatch Loss= 503.393463, Training Accuracy= 0.89062\n",
      "Iter 79360, Minibatch Loss= 569.403442, Training Accuracy= 0.93750\n",
      "Iter 80640, Minibatch Loss= 403.966705, Training Accuracy= 0.95312\n",
      "Iter 81920, Minibatch Loss= 301.513153, Training Accuracy= 0.95312\n",
      "Iter 83200, Minibatch Loss= 527.207275, Training Accuracy= 0.92188\n",
      "Iter 84480, Minibatch Loss= 316.023621, Training Accuracy= 0.96875\n",
      "Iter 85760, Minibatch Loss= 351.510132, Training Accuracy= 0.93750\n",
      "Iter 87040, Minibatch Loss= 1105.688599, Training Accuracy= 0.88281\n",
      "Iter 88320, Minibatch Loss= 156.309937, Training Accuracy= 0.95312\n",
      "Iter 89600, Minibatch Loss= 133.838699, Training Accuracy= 0.94531\n",
      "Iter 90880, Minibatch Loss= 704.370605, Training Accuracy= 0.91406\n",
      "Iter 92160, Minibatch Loss= 487.463806, Training Accuracy= 0.94531\n",
      "Iter 93440, Minibatch Loss= 401.792145, Training Accuracy= 0.92969\n",
      "Iter 94720, Minibatch Loss= 581.669739, Training Accuracy= 0.92969\n",
      "Iter 96000, Minibatch Loss= 370.152008, Training Accuracy= 0.92188\n",
      "Iter 97280, Minibatch Loss= 171.902740, Training Accuracy= 0.96094\n",
      "Iter 98560, Minibatch Loss= 492.830078, Training Accuracy= 0.95312\n",
      "Iter 99840, Minibatch Loss= 513.349609, Training Accuracy= 0.93750\n",
      "Optimization Finished!\n",
      "Testing Accuracy: 0.96484375\n"
     ]
    }
   ],
   "source": [
    "# Launch the graph\n",
    "with tf.Session() as sess:\n",
    "    sess.run(init)\n",
    "    step = 1\n",
    "    # Keep training until reach max iterations\n",
    "    while step * batch_size < training_iters:\n",
    "        batch_xs, batch_ys = mnist.train.next_batch(batch_size)\n",
    "        # Fit training using batch data\n",
    "        sess.run(optimizer, feed_dict={x: batch_xs, y: batch_ys, keep_prob: dropout})\n",
    "        if step % display_step == 0:\n",
    "            # Calculate batch accuracy\n",
    "            acc = sess.run(accuracy, feed_dict={x: batch_xs, y: batch_ys, keep_prob: 1.})\n",
    "            # Calculate batch loss\n",
    "            loss = sess.run(cost, feed_dict={x: batch_xs, y: batch_ys, keep_prob: 1.})\n",
    "            print(\"Iter \" + str(step*batch_size) + \", Minibatch Loss= \" + \"{:.6f}\".format(loss) + \", Training Accuracy= \" + \"{:.5f}\".format(acc))\n",
    "        step += 1\n",
    "    print(\"Optimization Finished!\")\n",
    "    # Calculate accuracy for 256 mnist test images\n",
    "    print(\"Testing Accuracy:\", sess.run(accuracy, feed_dict={x: mnist.test.images[:256], y: mnist.test.labels[:256], keep_prob: 1.}))"
   ]
  },
  {
   "cell_type": "code",
   "execution_count": null,
   "metadata": {},
   "outputs": [],
   "source": []
  }
 ],
 "metadata": {
  "kernelspec": {
   "display_name": "Python 3",
   "language": "python",
   "name": "python3"
  },
  "language_info": {
   "codemirror_mode": {
    "name": "ipython",
    "version": 3
   },
   "file_extension": ".py",
   "mimetype": "text/x-python",
   "name": "python",
   "nbconvert_exporter": "python",
   "pygments_lexer": "ipython3",
   "version": "3.5.2"
  }
 },
 "nbformat": 4,
 "nbformat_minor": 2
}
