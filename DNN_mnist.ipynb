{
 "cells": [
  {
   "cell_type": "markdown",
   "metadata": {},
   "source": [
    "## DNN深度神经网络\n",
    "就是把原有的多层神经网络扩展到深度学习里面，加上了BP反馈，使得loss收敛直至不变，同时也有dropout\n",
    "\n",
    "dropout是指随机用一定概率把一些节点失效，进行参与训练，防止数据陷入overfitting 局部最优解"
   ]
  },
  {
   "cell_type": "code",
   "execution_count": 1,
   "metadata": {},
   "outputs": [
    {
     "name": "stdout",
     "output_type": "stream",
     "text": [
      "Extracting MNIST_data/train-images-idx3-ubyte.gz\n",
      "Extracting MNIST_data/train-labels-idx1-ubyte.gz\n",
      "Extracting MNIST_data/t10k-images-idx3-ubyte.gz\n",
      "Extracting MNIST_data/t10k-labels-idx1-ubyte.gz\n"
     ]
    }
   ],
   "source": [
    "from tensorflow.examples.tutorials.mnist import input_data\n",
    "mnist = input_data.read_data_sets(\"MNIST_data/\", one_hot=True)"
   ]
  },
  {
   "cell_type": "code",
   "execution_count": 2,
   "metadata": {},
   "outputs": [],
   "source": [
    "import tensorflow as tf"
   ]
  },
  {
   "cell_type": "code",
   "execution_count": 3,
   "metadata": {},
   "outputs": [],
   "source": [
    "# Parameter\n",
    "learning_rate = 0.001\n",
    "training_iters = 200000\n",
    "batch_size = 128\n",
    "display_step = 20"
   ]
  },
  {
   "cell_type": "code",
   "execution_count": 4,
   "metadata": {},
   "outputs": [],
   "source": [
    "# Network Parameters\n",
    "n_inputs = 784\n",
    "n_classes = 10\n",
    "dropout = 0.8"
   ]
  },
  {
   "cell_type": "code",
   "execution_count": 5,
   "metadata": {},
   "outputs": [],
   "source": [
    "# tf Graph input \n",
    "x = tf.placeholder(tf.float32, [None, n_inputs])\n",
    "y = tf.placeholder(tf.float32, [None, n_classes])\n",
    "keep_prob = tf.placeholder(tf.float32)\n"
   ]
  },
  {
   "cell_type": "code",
   "execution_count": 6,
   "metadata": {},
   "outputs": [],
   "source": [
    "def init_weights(shape):\n",
    "    return tf.Variable(tf.random_normal(shape, stddev=0.01)) # stddev 标注差\n",
    "\n",
    "def dnn(_X, _weights, _biases, _dropout):\n",
    "    _X = tf.nn.dropout(_X, _dropout)\n",
    "    \n",
    "    d1 = tf.nn.relu(tf.nn.bias_add(tf.matmul(_X, _weights['wd1']), _biases['bd1']), name='d1')\n",
    "    d2x = tf.nn.dropout(d1, _dropout)\n",
    "    d2 = tf.nn.relu(tf.nn.bias_add(tf.matmul(d2x, _weights['wd2']), _biases['bd2']), name='d2')\n",
    "    \n",
    "    dout = tf.nn.dropout(d2,_dropout)\n",
    "    out = tf.matmul(dout, _weights['out']) + _biases['out']\n",
    "    return out"
   ]
  },
  {
   "cell_type": "code",
   "execution_count": 7,
   "metadata": {},
   "outputs": [],
   "source": [
    "# store layers weights and bias\n",
    "weights = {\n",
    "    'wd1': tf.Variable(tf.random_normal([784, 600], stddev=0.01)),\n",
    "    'wd2': tf.Variable(tf.random_normal([600, 480], stddev=0.01)),\n",
    "    'out': tf.Variable(tf.random_normal([480, 10]))\n",
    "}\n",
    "biases = {\n",
    "    'bd1': tf.Variable(tf.random_normal([600])),\n",
    "    'bd2': tf.Variable(tf.random_normal([480])),\n",
    "    'out': tf.Variable(tf.random_normal([10]))\n",
    "}"
   ]
  },
  {
   "cell_type": "code",
   "execution_count": 8,
   "metadata": {},
   "outputs": [],
   "source": [
    "# Construct model\n",
    "pred = dnn(x, weights, biases, keep_prob)"
   ]
  },
  {
   "cell_type": "code",
   "execution_count": 9,
   "metadata": {},
   "outputs": [],
   "source": [
    "# define loss and optimizer\n",
    "cost = tf.reduce_mean(tf.nn.softmax_cross_entropy_with_logits(logits=pred, labels=y))\n",
    "optimizer = tf.train.AdamOptimizer(learning_rate=learning_rate).minimize(cost)"
   ]
  },
  {
   "cell_type": "code",
   "execution_count": 10,
   "metadata": {},
   "outputs": [],
   "source": [
    "# evaluate model\n",
    "correct_pred = tf.equal(tf.argmax(pred, 1), tf.argmax(y, 1))\n",
    "accuracy = tf.reduce_mean(tf.cast(correct_pred, tf.float32))"
   ]
  },
  {
   "cell_type": "code",
   "execution_count": 11,
   "metadata": {},
   "outputs": [],
   "source": [
    "# init \n",
    "init = tf.global_variables_initializer()"
   ]
  },
  {
   "cell_type": "code",
   "execution_count": 14,
   "metadata": {},
   "outputs": [
    {
     "name": "stdout",
     "output_type": "stream",
     "text": [
      "Iter 2560, Minibatch Loss= 1.271280, Training Accuracy= 0.67969\n",
      "Iter 5120, Minibatch Loss= 0.760037, Training Accuracy= 0.82812\n",
      "Iter 7680, Minibatch Loss= 0.625286, Training Accuracy= 0.78906\n",
      "Iter 10240, Minibatch Loss= 0.607161, Training Accuracy= 0.79688\n",
      "Iter 12800, Minibatch Loss= 0.471471, Training Accuracy= 0.92188\n",
      "Iter 15360, Minibatch Loss= 0.277094, Training Accuracy= 0.92188\n",
      "Iter 17920, Minibatch Loss= 0.370746, Training Accuracy= 0.87500\n",
      "Iter 20480, Minibatch Loss= 0.370081, Training Accuracy= 0.89844\n",
      "Iter 23040, Minibatch Loss= 0.250388, Training Accuracy= 0.91406\n",
      "Iter 25600, Minibatch Loss= 0.386681, Training Accuracy= 0.85938\n",
      "Iter 28160, Minibatch Loss= 0.364527, Training Accuracy= 0.90625\n",
      "Iter 30720, Minibatch Loss= 0.275465, Training Accuracy= 0.89844\n",
      "Iter 33280, Minibatch Loss= 0.160494, Training Accuracy= 0.96875\n",
      "Iter 35840, Minibatch Loss= 0.173311, Training Accuracy= 0.93750\n",
      "Iter 38400, Minibatch Loss= 0.268104, Training Accuracy= 0.92188\n",
      "Iter 40960, Minibatch Loss= 0.315359, Training Accuracy= 0.92188\n",
      "Iter 43520, Minibatch Loss= 0.355299, Training Accuracy= 0.90625\n",
      "Iter 46080, Minibatch Loss= 0.200026, Training Accuracy= 0.93750\n",
      "Iter 48640, Minibatch Loss= 0.183755, Training Accuracy= 0.92188\n",
      "Iter 51200, Minibatch Loss= 0.205682, Training Accuracy= 0.93750\n",
      "Iter 53760, Minibatch Loss= 0.153347, Training Accuracy= 0.95312\n",
      "Iter 56320, Minibatch Loss= 0.179149, Training Accuracy= 0.95312\n",
      "Iter 58880, Minibatch Loss= 0.208299, Training Accuracy= 0.92969\n",
      "Iter 61440, Minibatch Loss= 0.192550, Training Accuracy= 0.95312\n",
      "Iter 64000, Minibatch Loss= 0.149327, Training Accuracy= 0.96875\n",
      "Iter 66560, Minibatch Loss= 0.260391, Training Accuracy= 0.93750\n",
      "Iter 69120, Minibatch Loss= 0.223849, Training Accuracy= 0.92188\n",
      "Iter 71680, Minibatch Loss= 0.175398, Training Accuracy= 0.95312\n",
      "Iter 74240, Minibatch Loss= 0.121487, Training Accuracy= 0.96875\n",
      "Iter 76800, Minibatch Loss= 0.173550, Training Accuracy= 0.93750\n",
      "Iter 79360, Minibatch Loss= 0.237466, Training Accuracy= 0.92188\n",
      "Iter 81920, Minibatch Loss= 0.208008, Training Accuracy= 0.94531\n",
      "Iter 84480, Minibatch Loss= 0.217142, Training Accuracy= 0.94531\n",
      "Iter 87040, Minibatch Loss= 0.186929, Training Accuracy= 0.92188\n",
      "Iter 89600, Minibatch Loss= 0.232214, Training Accuracy= 0.94531\n",
      "Iter 92160, Minibatch Loss= 0.199602, Training Accuracy= 0.94531\n",
      "Iter 94720, Minibatch Loss= 0.111192, Training Accuracy= 0.96875\n",
      "Iter 97280, Minibatch Loss= 0.074707, Training Accuracy= 0.97656\n",
      "Iter 99840, Minibatch Loss= 0.181259, Training Accuracy= 0.96094\n",
      "Iter 102400, Minibatch Loss= 0.289497, Training Accuracy= 0.92188\n",
      "Iter 104960, Minibatch Loss= 0.089135, Training Accuracy= 0.97656\n",
      "Iter 107520, Minibatch Loss= 0.081430, Training Accuracy= 0.98438\n",
      "Iter 110080, Minibatch Loss= 0.079225, Training Accuracy= 0.98438\n",
      "Iter 112640, Minibatch Loss= 0.099006, Training Accuracy= 0.97656\n",
      "Iter 115200, Minibatch Loss= 0.090421, Training Accuracy= 0.96875\n",
      "Iter 117760, Minibatch Loss= 0.150379, Training Accuracy= 0.94531\n",
      "Iter 120320, Minibatch Loss= 0.165522, Training Accuracy= 0.96094\n",
      "Iter 122880, Minibatch Loss= 0.163245, Training Accuracy= 0.94531\n",
      "Iter 125440, Minibatch Loss= 0.201567, Training Accuracy= 0.91406\n",
      "Iter 128000, Minibatch Loss= 0.164566, Training Accuracy= 0.95312\n",
      "Iter 130560, Minibatch Loss= 0.087650, Training Accuracy= 0.97656\n",
      "Iter 133120, Minibatch Loss= 0.144873, Training Accuracy= 0.96875\n",
      "Iter 135680, Minibatch Loss= 0.068876, Training Accuracy= 0.98438\n",
      "Iter 138240, Minibatch Loss= 0.068481, Training Accuracy= 0.98438\n",
      "Iter 140800, Minibatch Loss= 0.156230, Training Accuracy= 0.96094\n",
      "Iter 143360, Minibatch Loss= 0.106394, Training Accuracy= 0.98438\n",
      "Iter 145920, Minibatch Loss= 0.100620, Training Accuracy= 0.96875\n",
      "Iter 148480, Minibatch Loss= 0.134749, Training Accuracy= 0.97656\n",
      "Iter 151040, Minibatch Loss= 0.159247, Training Accuracy= 0.96094\n",
      "Iter 153600, Minibatch Loss= 0.109353, Training Accuracy= 0.96094\n",
      "Iter 156160, Minibatch Loss= 0.072903, Training Accuracy= 0.97656\n",
      "Iter 158720, Minibatch Loss= 0.152740, Training Accuracy= 0.94531\n",
      "Iter 161280, Minibatch Loss= 0.067747, Training Accuracy= 0.97656\n",
      "Iter 163840, Minibatch Loss= 0.081716, Training Accuracy= 0.97656\n",
      "Iter 166400, Minibatch Loss= 0.068332, Training Accuracy= 0.97656\n",
      "Iter 168960, Minibatch Loss= 0.107886, Training Accuracy= 0.98438\n",
      "Iter 171520, Minibatch Loss= 0.080971, Training Accuracy= 0.96094\n",
      "Iter 174080, Minibatch Loss= 0.113131, Training Accuracy= 0.95312\n",
      "Iter 176640, Minibatch Loss= 0.121803, Training Accuracy= 0.96094\n",
      "Iter 179200, Minibatch Loss= 0.139585, Training Accuracy= 0.94531\n",
      "Iter 181760, Minibatch Loss= 0.065559, Training Accuracy= 0.97656\n",
      "Iter 184320, Minibatch Loss= 0.123940, Training Accuracy= 0.96094\n",
      "Iter 186880, Minibatch Loss= 0.142039, Training Accuracy= 0.95312\n",
      "Iter 189440, Minibatch Loss= 0.242344, Training Accuracy= 0.92188\n",
      "Iter 192000, Minibatch Loss= 0.168251, Training Accuracy= 0.96094\n",
      "Iter 194560, Minibatch Loss= 0.177108, Training Accuracy= 0.96094\n",
      "Iter 197120, Minibatch Loss= 0.087549, Training Accuracy= 0.97656\n",
      "Iter 199680, Minibatch Loss= 0.021473, Training Accuracy= 0.99219\n",
      "Optimization Finished!\n",
      "Testing Accuracy: 0.984375\n"
     ]
    }
   ],
   "source": [
    "with tf.Session() as sess:\n",
    "    sess.run(init)\n",
    "    step = 1\n",
    "    while step*batch_size < training_iters:\n",
    "        batch_xs, batch_ys = mnist.train.next_batch(batch_size)\n",
    "        sess.run(optimizer, feed_dict={x: batch_xs, y:batch_ys, keep_prob: dropout})\n",
    "        if step % display_step == 0:\n",
    "            acc = sess.run(accuracy, feed_dict={x: batch_xs, y:batch_ys, keep_prob: 1.})\n",
    "            loss = sess.run(cost, feed_dict={x: batch_xs, y:batch_ys, keep_prob: 1.})\n",
    "            print(\"Iter \" + str(step*batch_size) + \", Minibatch Loss= \" + \"{:.6f}\".format(loss) + \", Training Accuracy= \" + \"{:.5f}\".format(acc))\n",
    "        step += 1\n",
    "    print('Optimization Finished!')\n",
    "    # Calculate accuracy for 256 mnist test images\n",
    "    print(\"Testing Accuracy:\", sess.run(accuracy, feed_dict={x: mnist.test.images[:256], y: mnist.test.labels[:256], keep_prob: 1.}))"
   ]
  },
  {
   "cell_type": "code",
   "execution_count": null,
   "metadata": {},
   "outputs": [],
   "source": []
  }
 ],
 "metadata": {
  "kernelspec": {
   "display_name": "Python 3",
   "language": "python",
   "name": "python3"
  },
  "language_info": {
   "codemirror_mode": {
    "name": "ipython",
    "version": 3
   },
   "file_extension": ".py",
   "mimetype": "text/x-python",
   "name": "python",
   "nbconvert_exporter": "python",
   "pygments_lexer": "ipython3",
   "version": "3.5.2"
  }
 },
 "nbformat": 4,
 "nbformat_minor": 2
}
